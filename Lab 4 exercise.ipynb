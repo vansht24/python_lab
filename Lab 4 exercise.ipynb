{
 "cells": [
  {
   "cell_type": "code",
   "execution_count": 19,
   "id": "7c8f33fe-f68b-400c-87ab-4018fdad8217",
   "metadata": {},
   "outputs": [
    {
     "name": "stdin",
     "output_type": "stream",
     "text": [
      "enter a number: 175\n"
     ]
    },
    {
     "name": "stdout",
     "output_type": "stream",
     "text": [
      "disarium number\n"
     ]
    }
   ],
   "source": [
    "num = int(input(\"enter a number:\"))\n",
    "rem = s =0;\n",
    "len = len(str(num))\n",
    "n=num;\n",
    "while(num>0):\n",
    "    rem=num%10\n",
    "    s+=int(rem**len);\n",
    "    num = num//10;\n",
    "    len-=1;\n",
    "if(s == n):\n",
    "    print(\"disarium number\");\n",
    "else:\n",
    "    print(\"not a disarium number:\");"
   ]
  },
  {
   "cell_type": "markdown",
   "id": "13b0fae6-286e-4e10-a455-994374984a3d",
   "metadata": {},
   "source": [
    "num = int(input(\"enter a number:\"))\n",
    "rem = sum =0;\n",
    "n=num;\n",
    "while(num>0):\n",
    "  rem =num%10;\n",
    "  sum=sum+rem;\n",
    "  num=num//10;\n",
    "if(n%sum==0):\n",
    "  print(n,\"is a harshad number\");\n",
    "else: \n",
    "  print(n,\"is not a harshad number\")"
   ]
  },
  {
   "cell_type": "code",
   "execution_count": 22,
   "id": "838656a6-c80c-4767-b8d5-9b05a82ba091",
   "metadata": {},
   "outputs": [
    {
     "name": "stdin",
     "output_type": "stream",
     "text": [
      "enter a number: 54\n"
     ]
    },
    {
     "name": "stdout",
     "output_type": "stream",
     "text": [
      "54 is a harshad number\n"
     ]
    }
   ],
   "source": [
    "num = int(input(\"enter a number:\"))\n",
    "rem = sum =0;\n",
    "n=num;\n",
    "while(num>0):\n",
    "    rem =num%10;\n",
    "    sum=sum+rem;\n",
    "    num=num//10;\n",
    "if(n%sum==0):\n",
    "    print(n,\"is a harshad number\");\n",
    "else:\n",
    "    print(n,\"is not a harshad number\")\n",
    "\n"
   ]
  },
  {
   "cell_type": "code",
   "execution_count": 1,
   "id": "238abe99-27d9-4995-b3f4-9246508fc7e6",
   "metadata": {},
   "outputs": [
    {
     "name": "stdout",
     "output_type": "stream",
     "text": [
      "1\n",
      "2\n",
      "3\n",
      "4\n",
      "5\n",
      "6\n",
      "7\n",
      "8\n",
      "9\n",
      "153\n",
      "370\n",
      "371\n",
      "407\n"
     ]
    }
   ],
   "source": [
    "def is_armstrong(num):\n",
    "    size=len(str(num))\n",
    "    hold=num\n",
    "    sum=0\n",
    "    while(hold>0):\n",
    "        digit=hold%10\n",
    "        sum+=digit**size\n",
    "        hold//=10\n",
    "    return sum == num \n",
    "for num in range(1,1001):\n",
    "    if is_armstrong(num):\n",
    "        print(num)"
   ]
  },
  {
   "cell_type": "code",
   "execution_count": null,
   "id": "7f60ef43-f00f-48f3-80cf-0eede9f1c468",
   "metadata": {},
   "outputs": [],
   "source": []
  },
  {
   "cell_type": "code",
   "execution_count": null,
   "id": "01cf5d2a-540b-4545-a1a6-ae651e95d42c",
   "metadata": {},
   "outputs": [],
   "source": []
  }
 ],
 "metadata": {
  "kernelspec": {
   "display_name": "Python 3 (ipykernel)",
   "language": "python",
   "name": "python3"
  },
  "language_info": {
   "codemirror_mode": {
    "name": "ipython",
    "version": 3
   },
   "file_extension": ".py",
   "mimetype": "text/x-python",
   "name": "python",
   "nbconvert_exporter": "python",
   "pygments_lexer": "ipython3",
   "version": "3.12.4"
  }
 },
 "nbformat": 4,
 "nbformat_minor": 5
}
