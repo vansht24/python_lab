{
 "cells": [
  {
   "cell_type": "code",
   "execution_count": 13,
   "id": "8cf94e63-4f35-4741-a3e4-3672429e32b1",
   "metadata": {},
   "outputs": [
    {
     "name": "stdin",
     "output_type": "stream",
     "text": [
      "enter your name :  vansh\n",
      "enter your registration no : 15678\n",
      "enter your father's name : mangat\n"
     ]
    },
    {
     "name": "stdout",
     "output_type": "stream",
     "text": [
      "vansh15678mangat\n",
      "extracted registration number :  15678\n"
     ]
    }
   ],
   "source": [
    "name = input(\"enter your name : \")\n",
    "reg_no = input(\"enter your registration no :\")\n",
    "father_name= input(\"enter your father's name :\")\n",
    "your_info = f\"{name}{reg_no}{father_name}\"\n",
    "print(your_info)\n",
    "extracted_reg_no = \" \" \n",
    "found_reg_no = False\n",
    "for char in your_info:\n",
    "    if char.isdigit() and not found_reg_no:\n",
    "        extracted_reg_no +=char\n",
    "    elif char.isspace() and extracted_reg_no:\n",
    "        found_reg_no = True\n",
    "        break\n",
    "print(\"extracted registration number :\", extracted_reg_no)\n"
   ]
  }
 ],
 "metadata": {
  "kernelspec": {
   "display_name": "Python 3 (ipykernel)",
   "language": "python",
   "name": "python3"
  },
  "language_info": {
   "codemirror_mode": {
    "name": "ipython",
    "version": 3
   },
   "file_extension": ".py",
   "mimetype": "text/x-python",
   "name": "python",
   "nbconvert_exporter": "python",
   "pygments_lexer": "ipython3",
   "version": "3.12.4"
  }
 },
 "nbformat": 4,
 "nbformat_minor": 5
}
