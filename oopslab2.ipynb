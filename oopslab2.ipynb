{
 "cells": [
  {
   "cell_type": "code",
   "execution_count": null,
   "id": "fc2d9437-26b8-46e8-8a81-286ee4de7ad0",
   "metadata": {},
   "outputs": [],
   "source": [
    "import math\n",
    "import cmath"
   ]
  },
  {
   "cell_type": "code",
   "execution_count": 7,
   "id": "32214df2-b622-4589-a0e3-cf9615b27c32",
   "metadata": {},
   "outputs": [
    {
     "name": "stdout",
     "output_type": "stream",
     "text": [
      "30\n"
     ]
    }
   ],
   "source": [
    "a=10\n",
    "b=20\n",
    "c=a+b\n",
    "print(c)"
   ]
  },
  {
   "cell_type": "code",
   "execution_count": 9,
   "id": "bb84ecaa-cf37-450d-97d6-99b1601586d1",
   "metadata": {},
   "outputs": [
    {
     "name": "stdout",
     "output_type": "stream",
     "text": [
      "hello world\n"
     ]
    }
   ],
   "source": [
    "print(\"hello world\")"
   ]
  },
  {
   "cell_type": "code",
   "execution_count": 17,
   "id": "66175594-9a42-4ac3-8090-61d5acec588b",
   "metadata": {},
   "outputs": [
    {
     "name": "stdin",
     "output_type": "stream",
     "text": [
      "enter a number  20\n"
     ]
    },
    {
     "data": {
      "text/plain": [
       "int"
      ]
     },
     "execution_count": 17,
     "metadata": {},
     "output_type": "execute_result"
    }
   ],
   "source": [
    "a= int(input(\"enter a number \"))\n",
    "type(a)"
   ]
  },
  {
   "cell_type": "code",
   "execution_count": 21,
   "id": "bcd7868d-6b8d-4e49-b5c1-304247a1bb29",
   "metadata": {},
   "outputs": [
    {
     "name": "stdin",
     "output_type": "stream",
     "text": [
      "enter any number :  12\n"
     ]
    },
    {
     "data": {
      "text/plain": [
       "int"
      ]
     },
     "execution_count": 21,
     "metadata": {},
     "output_type": "execute_result"
    }
   ],
   "source": [
    "a=int(input(\"enter any number : \"))\n",
    "type(a)\n"
   ]
  },
  {
   "cell_type": "code",
   "execution_count": 23,
   "id": "060b2137-235f-4f87-9b6e-cf450d9e7f07",
   "metadata": {},
   "outputs": [
    {
     "name": "stdin",
     "output_type": "stream",
     "text": [
      "enter any float integer :  12.4004\n"
     ]
    },
    {
     "data": {
      "text/plain": [
       "float"
      ]
     },
     "execution_count": 23,
     "metadata": {},
     "output_type": "execute_result"
    }
   ],
   "source": [
    "b=float(input(\"enter any float integer : \"))\n",
    "type(b)"
   ]
  },
  {
   "cell_type": "code",
   "execution_count": 25,
   "id": "92a1b760-701c-4145-a0b0-01d909b95707",
   "metadata": {},
   "outputs": [
    {
     "name": "stdin",
     "output_type": "stream",
     "text": [
      "enter any string : hello\n"
     ]
    },
    {
     "data": {
      "text/plain": [
       "str"
      ]
     },
     "execution_count": 25,
     "metadata": {},
     "output_type": "execute_result"
    }
   ],
   "source": [
    "#c=input(\"enter any string :\")\n",
    "#type(c)"
   ]
  },
  {
   "cell_type": "code",
   "execution_count": 31,
   "id": "972490ed-fb80-4531-a7cd-8b9799b1004b",
   "metadata": {},
   "outputs": [
    {
     "name": "stdin",
     "output_type": "stream",
     "text": [
      "enter any boolean value :  true\n"
     ]
    },
    {
     "name": "stdout",
     "output_type": "stream",
     "text": [
      "<class 'bool'>\n"
     ]
    },
    {
     "name": "stdin",
     "output_type": "stream",
     "text": [
      "enter any string : hello\n"
     ]
    },
    {
     "data": {
      "text/plain": [
       "str"
      ]
     },
     "execution_count": 31,
     "metadata": {},
     "output_type": "execute_result"
    }
   ],
   "source": [
    "d=bool(input(\"enter any boolean value : \"))\n",
    "print(type(d))\n",
    "c=input(\"enter any string :\")\n",
    "type(c)"
   ]
  },
  {
   "cell_type": "code",
   "execution_count": 55,
   "id": "0e0cf4a6-1bd1-4067-9d24-594adfa18d12",
   "metadata": {},
   "outputs": [],
   "source": [
    "a=10.10\n",
    "b=5.5\n",
    "#print(type(a))\n",
    "#print(type(b))\n",
    "result=a+b"
   ]
  },
  {
   "cell_type": "code",
   "execution_count": 63,
   "id": "f9e3c125-12f9-4b06-acdd-fb9f84f07d5c",
   "metadata": {},
   "outputs": [
    {
     "name": "stdout",
     "output_type": "stream",
     "text": [
      "result :  15.60\n",
      "Result : 15.60\n"
     ]
    }
   ],
   "source": [
    "print(f\"result : {result : .2f}\")\n",
    "print(\"Result : %.2f\" % result)"
   ]
  },
  {
   "cell_type": "code",
   "execution_count": 59,
   "id": "f23b494c-6095-4dcf-b8e1-6b81d3d5d8a6",
   "metadata": {},
   "outputs": [
    {
     "name": "stdout",
     "output_type": "stream",
     "text": [
      "integer : 10\n",
      "float : 10.5\n",
      "string :  hello world\n",
      "boolean : True\n"
     ]
    }
   ],
   "source": [
    "a=10\n",
    "print(\"integer :\",a)\n",
    "b=10.5\n",
    "print(\"float :\",b)\n",
    "c=\"hello world\"\n",
    "print(\"string : \",c)\n",
    "d=True\n",
    "print(\"boolean :\",d)"
   ]
  },
  {
   "cell_type": "code",
   "execution_count": 65,
   "id": "7057a1a8-fe2e-411c-85c6-7f277ce56907",
   "metadata": {},
   "outputs": [
    {
     "name": "stdout",
     "output_type": "stream",
     "text": [
      "addition : 13\n",
      "subtraction :  7\n",
      "multiplication: 30\n",
      "division: 3.3333333333333335\n"
     ]
    }
   ],
   "source": [
    "#arithmetic operators\n",
    "e=10\n",
    "f=3\n",
    "#addition\n",
    "print(\"addition :\",e+f)\n",
    "#subtractrion\n",
    "print(\"subtraction : \",e-f)\n",
    "#multiplication\n",
    "print(\"multiplication:\",e*f)\n",
    "#division\n",
    "print(\"division:\",e/f)"
   ]
  },
  {
   "cell_type": "code",
   "execution_count": null,
   "id": "616d620b-2231-46cb-a46b-2791fcd24403",
   "metadata": {},
   "outputs": [],
   "source": []
  }
 ],
 "metadata": {
  "kernelspec": {
   "display_name": "Python 3 (ipykernel)",
   "language": "python",
   "name": "python3"
  },
  "language_info": {
   "codemirror_mode": {
    "name": "ipython",
    "version": 3
   },
   "file_extension": ".py",
   "mimetype": "text/x-python",
   "name": "python",
   "nbconvert_exporter": "python",
   "pygments_lexer": "ipython3",
   "version": "3.12.4"
  }
 },
 "nbformat": 4,
 "nbformat_minor": 5
}
